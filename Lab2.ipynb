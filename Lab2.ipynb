{
  "metadata": {
    "kernelspec": {
      "name": "python",
      "display_name": "Python (Pyodide)",
      "language": "python"
    },
    "language_info": {
      "codemirror_mode": {
        "name": "python",
        "version": 3
      },
      "file_extension": ".py",
      "mimetype": "text/x-python",
      "name": "python",
      "nbconvert_exporter": "python",
      "pygments_lexer": "ipython3",
      "version": "3.8"
    }
  },
  "nbformat_minor": 4,
  "nbformat": 4,
  "cells": [
    {
      "cell_type": "code",
      "source": "import numpy as np\nimport pandas as pd\nimport matplotlib.pyplot as plt\nfrom sklearn.metrics import mean_absolute_error, mean_squared_error\n\n# 1. NumPy: создание данных и CRUD операции\n# Создание скаляра, вектора и матрицы\nscalar = 42\nvector = np.arange(1, 11)\nmatrix = np.random.rand(3, 3)\n\n# CRUD операции\n# Create - уже создали\n# Read\nprint(\"Vector:\", vector)\nprint(\"Matrix:\\n\", matrix)\n\n# Update\nvector[2] = 99  # Обновляем третий элемент вектора\nmatrix[0, 1] = 5.5  # Обновляем элемент в матрице\n\n# Delete\nvector = np.delete(vector, 4)  # Удаляем пятый элемент\nprint(\"Updated Vector:\", vector)\n\n# 2. Pandas: создание и манипуляция DataFrame\n# Создание DataFrame с помощью разных методов\ndf1 = pd.DataFrame({\n    'A': np.random.rand(5),\n    'B': np.random.rand(5)\n})\n\ndf2 = pd.DataFrame(np.random.rand(5, 3), columns=['X', 'Y', 'Z'])\n\n# Операции с DataFrame\nprint(\"Head of df1:\\n\", df1.head())\nprint(\"Description of df2:\\n\", df2.describe())\nprint(\"iloc:\\n\", df2.iloc[0:2])\nprint(\"loc:\\n\", df1.loc[:, 'A'])\n\n# 3. Matplotlib: построение графика и расчет ошибок\n# Линейная функция y = 2x + 1 с добавлением шума\nX = np.arange(0, 10, 0.5)\nY_true = 2 * X + 1\nY_noisy = Y_true + np.random.normal(0, 2, len(X))  # Добавляем шум\n\n# Построение графика\nplt.plot(X, Y_true, label=\"True Function\", color=\"blue\")\nplt.scatter(X, Y_noisy, label=\"Noisy Data\", color=\"red\")\nplt.title(\"Linear Function with Noise\")\nplt.xlabel(\"X\")\nplt.ylabel(\"Y\")\nplt.legend()\nplt.show()\n\n# Вычисление ошибок (MAE и MSE)\nmae = mean_absolute_error(Y_true, Y_noisy)\nmse = mean_squared_error(Y_true, Y_noisy)\nprint(\"MAE:\", mae)\nprint(\"MSE:\", mse)\n\n# 4. Запись в CSV файл\nresults = pd.DataFrame({\n    'X': X,\n    'Y': Y_true,\n    'Y_noisy': Y_noisy,\n    'MAE': [mae] * len(X),\n    'MSE': [mse] * len(X)\n})\n\nresults.to_csv('results.csv', index=False)\n",
      "metadata": {
        "trusted": true
      },
      "outputs": [],
      "execution_count": null
    }
  ]
}